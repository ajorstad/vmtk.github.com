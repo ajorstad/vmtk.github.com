{
 "cells": [
  {
   "cell_type": "markdown",
   "metadata": {},
   "source": [
    "---\n",
    "layout: page-full-width\n",
    "title: Working With Numpy Arrays\n",
    "---"
   ]
  },
  {
   "cell_type": "markdown",
   "metadata": {},
   "source": [
    "#### Applicable version(s):"
   ]
  },
  {
   "cell_type": "markdown",
   "metadata": {},
   "source": [
    "[Development version]({{ site.baseurl }}/download/#development_version)\n",
    "\n",
    "<sub>by Richard Izzo (Github @rlizzo), State University of New York at Buffalo, USA</sub>\n",
    "\n",
    "This tutorial demonstrates how to convert VMTK Image, Surface, and Centerline object data to and from a structured dictionary of Numpy arrays. This tutorial can be viewed as a Jupyter Notebook at [this link]({{ site.baseurl }}/tutorials/WorkingWithNumpyArraysIPYNB.html)\n",
    "\n",
    "<b>Note:</b> <i> This is an advanced function </i> meant only for users who wish to access & programmatically modify the underlying Visualization Toolkit (VTK) object data which defines Images, Surfaces, and Centerlines in VMTK. While the described vmtkscripts are valid PypeScript members, the API is designed to be called from a typical python script or from within a [Jupyter Notebook](http://jupyter.org/). Also please note that as of VMTK version 1.3, <i> the vmtkscripts described below are not included in the pre-built binary installer </i>. In order to take advantage of these functions, please build VMTK from source by following this instructions [here]({{ site.baseurl }}/download/#development_version) <br> \n",
    "\n",
    "Though deep expertise is not necessary, we recommend that users are familiar with the VTK [data model](http://www.vtk.org/data-model/) and typical class structures for [vtkImageData](http://www.vtk.org/doc/nightly/html/classvtkImageData.html) and [vtkPolyData](http://www.vtk.org/doc/nightly/html/classvtkPolyData.html)\n",
    "\n",
    "---"
   ]
  },
  {
   "cell_type": "markdown",
   "metadata": {},
   "source": [
    "## Relevant VMTK scripts"
   ]
  },
  {
   "cell_type": "markdown",
   "metadata": {},
   "source": [
    "Scripts that convert VMTK objects to numpy arrays:\n",
    "1. vmtkcenterlinestonumpy \n",
    "2. vmtkimagetonumpy\n",
    "3. vmtksurfacetonumpy\n",
    "\n",
    "Scripts that convert a nested dictionary of numpy arrays to VMTK objects:\n",
    "1. vmtknumpytocenterlines\n",
    "2. vmtknumpytoimage\n",
    "3. vmtknumpytosurface\n",
    "\n",
    "Convenience scripts to write and read a nested dictionary of numpy arrays to disk:\n",
    "1. vmtknumpyreader \n",
    "2. vmtknumpywriter \n",
    "\n",
    "---"
   ]
  },
  {
   "cell_type": "markdown",
   "metadata": {},
   "source": [
    "## Requirements"
   ]
  },
  {
   "cell_type": "markdown",
   "metadata": {},
   "source": [
    "In addition to the standard VMTK package, the following packages must be installed and available on the users PATH:\n",
    "\n",
    "1. [numpy](http://www.numpy.org/)\n",
    "2. [h5py](http://www.h5py.org/)\n",
    "\n",
    "We recommend using the [Python Anaconda](https://anaconda.org/) package manager to create a virtual environment and install the packages. Installation and quickstart instructions are available [here](https://docs.continuum.io/docs_oss/conda/get-started). \n",
    "\n",
    "---"
   ]
  },
  {
   "cell_type": "markdown",
   "metadata": {},
   "source": [
    "## A Primer on VTK Data"
   ]
  },
  {
   "cell_type": "markdown",
   "metadata": {},
   "source": [
    "VMTK is built on top of Kitware's [Visualization Toolkit](http://www.vtk.org/) data model & processing pipeline. A full description of the VTK data model format and pipeline is well beyond the scope of this tutorial. For those interested users, please refer to the following two resources:\n",
    "\n",
    "1. [Data Structures in the Visualization Toolkit](https://www.researchgate.net/profile/Stefan_Bruckner/publication/228936817_Data_Structures_in_the_Visualization_Toolkit/links/0912f50ebdc4027636000000.pdf), Stefan Bruckner, Seminar Paper, The Institute of Computer Graphics and Algorithms, Vienna University of Technology, Austria \n",
    "2. [The VTK Users Guide](https://www.kitware.com/products/books/VTKUsersGuide.pdf)\n",
    "\n",
    "For our purposes, we can think of any VTK data object as being composed of an organizing structure (ie. Points & Cells) and associated data attributes (Point Data & Cell Data)."
   ]
  },
  {
   "cell_type": "markdown",
   "metadata": {},
   "source": [
    "#### Points & Cells"
   ]
  },
  {
   "cell_type": "markdown",
   "metadata": {},
   "source": [
    "In this interpretation, we can think of <i> Points </i> as a vertices which define the geometry of the data object. For surfaces & centerlines, this interpretation is immediately intuitive; the geometry of these structures is composed of a discrete set of vertices (aka. Points) in 3D space (see Figure 1). To understand Points in the context of an image, we can think of any image as being composed of a structured grid of points in space with an intensity value at each point (see Figure 2) \n",
    "\n",
    "\n",
    "|    \t\t \t\t\t  |     \t\t\t\t\t      |\n",
    "|:----------------------------------------:|:---------------------------------------------------:|\n",
    "|![Figure1]({{ site.baseurl }}/resources/img//tutorials/izzo-numpy-1-1.png)| ![Figure2]({{ site.baseurl }}/resources/img//tutorials/izzo-numpy-1-2.png)\n",
    "|*Figure 1: Illustration of vertices as Points*\t          | *Figure 2: Illustration of image as points*\n",
    "\n",
    "On the other hand, <i> Cells </i> define the topology of the data object. In the context of surfaces, this is a  describes the connectivity of the vertices which form each triangle in the surface (see Figure 3). For centerlines, Cells describe the connectivity and grouping of points which make up the centerline data object (see Figure 4). Though in theory, cells can be used to group certain regions in vtkImageData, we do not define the concept of cells as it relates to a VMTK image. \n",
    "\n",
    "|    \t\t \t\t\t  |     \t\t\t\t\t      |\n",
    "|:----------------------------------------:|:---------------------------------------------------:|\n",
    "|![Figure3]({{ site.baseurl }}/resources/img//tutorials/izzo-numpy-2-1.png)| ![Figure4]({{ site.baseurl }}/resources/img//tutorials/izzo-numpy-2-2.png)\n",
    "|*Figure 1: Illustration of cells creating a triangulated surface*\t          | *Figure 2: Illustration cells defining a line*\n",
    "\n",
    "When working with Points & Cells, just remember that: <i> Points define geometry, Cells define topology </i>."
   ]
  },
  {
   "cell_type": "markdown",
   "metadata": {},
   "source": [
    "#### Point Data & Cell Data"
   ]
  },
  {
   "cell_type": "markdown",
   "metadata": {},
   "source": [
    "At this point, it should be noted that a complete description of surface or centerline geometry & topology is given by the Point & Cell descriptors; this is similar to the information which might be encoded in a common STL or PLY file. Though undoubtedly useful, the VTK data model allows far more flexibility and customization than these simple descriptors. This flexibility is employed through the use of <i> dataset attributes </i> (ie. Point Data & Cell Data). \n",
    "\n",
    "Throughout the previous tutorials, we have generated scalar and vector field maps which have been applied to both centerlines and surfaces. These may have come in the form of measuring the surface distance to centerlines in the [Mesh Generation](http://www.vmtk.org/tutorials/MeshGeneration.html) tutorial, or generating centerline Group or Tract Ids in the [Branch Splitting](http://www.vmtk.org/tutorials/BranchSplitting.html) tutorial. The algorithms that VMTK employs to do these operations stores the resulting attribute data in Point Data / Cell Data arrays associated with the underlying VTK object which is being processed. It is important to note that though both Point Data & Cell Data both act to describe some data attribute of the underlying VTK object, they are not necessarily interchangeable. In general, cell data can be easily converted to point data, but point data <i> may not </i> necessarily be easily converted to cell data - the reason for this (along with the methods to convert cell data to point data) will be illustrated later on in this tutorial.\n",
    "\n",
    "Point Data refers to a dataset attribute which is specified <i> for every Point </i> in the VTK object. Cell Data refers to a dataset attribute which is specified <i> at every cell </i> in the VTK object. The following example is provided to attempt to make this distinction clear: \n",
    "\n",
    "> If we are given a centerline which has been split into branches (refer to the [Branch Splitting](http://www.vmtk.org/tutorials/BranchSplitting.html) tutorial), the Centerline Id, Tract Id, & Group Id of each centerline segment is stored as Cell Data key/value pairs. If we then go on to calculate the centerline geometry (refer to the [Geometric Analysis](http://www.vmtk.org/tutorials/GeometricAnalysis.html) tutorial), the tortuosity values will be stored as Point Data. \n",
    "\n",
    "> In this example the cell data (Centerline Id, Tract Id, etc.) applies the same value - an integer indicating some attribute in this case - to a large number of points which are specified by a single cell. Conversely, a value such a tortuosity inherently varies for every point making up the centerline, and therefore needs to be specified individually for every point. \n",
    "\n",
    "This explanation all acts to say the following: if a dataset attribute varies <i> for every vertex </i>  defining geometry, it is Point Data. If the dataset attribute <i> varies according to the object's topology </i>, it is Cell Data.\n",
    "\n",
    "---"
   ]
  },
  {
   "cell_type": "markdown",
   "metadata": {},
   "source": [
    "## Structured Conversion Between VTK Data and Numpy Arrays"
   ]
  },
  {
   "cell_type": "markdown",
   "metadata": {},
   "source": [
    "When we want to access VTK data in numpy, we actually need to access the four principle component of a VTK object as described above:\n",
    "\n",
    "1. Points\n",
    "2. Cells\n",
    "3. Point Data\n",
    "4. Cell Data\n",
    "\n",
    "In order to make use of the data in numpy/python, we create a unique numpy array for every VTK array defining these components. In order to handle these arrays in a manageable fashion (accessible through one python object), we assign each data array to a key/value pair in a (nested) python dictionary of pre-defined structure. The following subsections defines the dictionary structure required for centerlines, images, and surfaces. \n",
    "\n",
    "Note: The following structure must be reproduced <i> exactly </i> in order to successfully convert a numpy dataset back into VMTK. Be sure to include all dictionary components (even if they are empty) and ensure that all keys exactly match the description below / the output from converting VMTK objects to numpy."
   ]
  },
  {
   "cell_type": "markdown",
   "metadata": {},
   "source": [
    "### Converting VMTK Surface Objects"
   ]
  },
  {
   "cell_type": "markdown",
   "metadata": {},
   "source": [
    "The following example demonstrates how to convert a VMTK surface to a numpy array. This is handled by the `vmtkscripts.vmtkSurfaceToNumpy()` script which accepts a `Surface` as a input and outputs the nested dictionary of arrays through the `ArrayDict` class attribute."
   ]
  },
  {
   "cell_type": "markdown",
   "metadata": {},
   "source": [
    "The structure of the `ArrayDict` nested dictionary is as follows:\n",
    "\n",
    "```\n",
    "ArrayDict\n",
    "    ['Points']                   <-- required, is Nx3 array of N vertexes and x, y, z locations\n",
    "    ['PointData']                <-- required, even if subarrays are empty\n",
    "        ['PointDataArray1']      <-- optional, (ex. MaximumInscribedSphereRadius)\n",
    "        ['PointDataArray2']      <-- optional\n",
    "        ...\n",
    "    ['CellData']                 <-- required\n",
    "        ['CellPointIds']         <-- required, is Mx3 array defines cell conectivity to ['Points] Indices\n",
    "        ['CellDataArray1']       <-- optional, (ex. CenterlineTractId)\n",
    "        ['CellDataArray2']       <-- optional\n",
    "        ...\n",
    "```"
   ]
  },
  {
   "cell_type": "markdown",
   "metadata": {},
   "source": [
    "An example showing the dictionary structure is below:"
   ]
  },
  {
   "cell_type": "code",
   "execution_count": 1,
   "metadata": {},
   "outputs": [
    {
     "name": "stdout",
     "output_type": "stream",
     "text": [
      "Reading VTK XML surface file.\n",
      "wrapping vtkPolyData object\n",
      "converting cell data: \n",
      "converting points\n",
      "converting point data: \n",
      "DistanceToCenterlines\n",
      "MaximumInscribedSphereRadius\n",
      "converting cell connectivity list\n"
     ]
    }
   ],
   "source": [
    "from vmtk import vmtkscripts\n",
    "import numpy as np\n",
    "\n",
    "surfaceReader = vmtkscripts.vmtkSurfaceReader()\n",
    "surfaceReader.InputFileName = 'foo/neuro-test-surface-distance.vtp'\n",
    "surfaceReader.Execute()\n",
    "\n",
    "surfaceNumpyAdaptor = vmtkscripts.vmtkSurfaceToNumpy()\n",
    "surfaceNumpyAdaptor.Surface = surfaceReader.Surface\n",
    "surfaceNumpyAdaptor.Execute()\n",
    "\n",
    "numpySurface = surfaceNumpyAdaptor.ArrayDict"
   ]
  },
  {
   "cell_type": "markdown",
   "metadata": {},
   "source": [
    "The python object `numpySurface` is now a nested dictionary of numpy arrays. The top level key/value pairs are:"
   ]
  },
  {
   "cell_type": "code",
   "execution_count": 2,
   "metadata": {},
   "outputs": [
    {
     "data": {
      "text/plain": [
       "{'CellData': {'CellPointIds': array([[     0,      1,      2],\n",
       "         [     1,      3,      4],\n",
       "         [     5,      6,      7],\n",
       "         ..., \n",
       "         [ 88716,  89180,  37940],\n",
       "         [166989, 164742, 166803],\n",
       "         [103381, 110920, 102971]], dtype=int32)},\n",
       " 'PointData': {'DistanceToCenterlines': array([ 0.83461123,  0.86163944,  0.82509331, ...,  0.19807033,\n",
       "          1.024342  ,  0.3966704 ]),\n",
       "  'MaximumInscribedSphereRadius': array([ 0.83021622,  0.85573586,  0.82176147, ...,  0.20746213,\n",
       "          0.9325247 ,  0.38492678])},\n",
       " 'Points': array([[  11.95934963,   -3.45995545, -250.88401794],\n",
       "        [  12.04302216,   -3.48910427, -250.89782715],\n",
       "        [  11.96973038,   -3.54681206, -250.83029175],\n",
       "        ..., \n",
       "        [ -21.8845253 ,   10.9817152 , -242.10021973],\n",
       "        [  -5.70769596,    0.96210521, -247.94236755],\n",
       "        [ -24.40606117,    2.56822777, -245.54272461]], dtype=float32)}"
      ]
     },
     "execution_count": 2,
     "metadata": {},
     "output_type": "execute_result"
    }
   ],
   "source": [
    "numpySurface"
   ]
  },
  {
   "cell_type": "markdown",
   "metadata": {},
   "source": [
    "For `numpySurface`, we can see that the numpy of surface points (stored in `numpySurface['Points']`) and the number of triangles (stored in `numpySurface['CellData']['CellPointIds']`) is:"
   ]
  },
  {
   "cell_type": "code",
   "execution_count": 3,
   "metadata": {},
   "outputs": [
    {
     "name": "stdout",
     "output_type": "stream",
     "text": [
      "Number of Points =  209988  Number of Dimensions =  3\n",
      "Number of Faces =  419582  Number of Vertices Per Face =  3\n"
     ]
    }
   ],
   "source": [
    "print('Number of Points = ', numpySurface['Points'].shape[0], ' Number of Dimensions = ', numpySurface['Points'].shape[1])\n",
    "print('Number of Faces = ', numpySurface['CellData']['CellPointIds'].shape[0], ' Number of Vertices Per Face = ', numpySurface['CellData']['CellPointIds'].shape[1])"
   ]
  },
  {
   "cell_type": "markdown",
   "metadata": {},
   "source": [
    "We can also see that the data stored in `PointData` has the shape:"
   ]
  },
  {
   "cell_type": "code",
   "execution_count": 4,
   "metadata": {},
   "outputs": [
    {
     "name": "stdout",
     "output_type": "stream",
     "text": [
      "numpySurface[\"PointData\"][\"DistanceToCenterlines\"] shape =  (209988,)\n"
     ]
    }
   ],
   "source": [
    "print('numpySurface[\"PointData\"][\"DistanceToCenterlines\"] shape = ', numpySurface[\"PointData\"][\"DistanceToCenterlines\"].shape)"
   ]
  },
  {
   "cell_type": "markdown",
   "metadata": {},
   "source": [
    "which exactly matches the number of vertices in the ` Points ` array. In this case, each index in ` numpySurface['PointData']['DistanceToCenterlines'] ` corresponds to a row in ` numpySurface['Points'] `. ie. ` numpySurface['PointData']['DistanceToCenterlines'][100] ` corresponds to the vertex defined by coordinates at ` numpySurface['Points'][100, :] `\n",
    "\n",
    "From here, we can modify the location of the points, define a new cell connectivity list, or add a new Point Data or Cell Data array. If we decide we want to modify the ` DistanceToCenterlines ` array values by a constant scale factor, we can perform the operation and convert back to a VMTK surface Object by:"
   ]
  },
  {
   "cell_type": "code",
   "execution_count": 5,
   "metadata": {},
   "outputs": [
    {
     "name": "stdout",
     "output_type": "stream",
     "text": [
      "Before Modification:  [ 0.83461123  0.86163944  0.82509331 ...,  0.19807033  1.024342    0.3966704 ]\n",
      "After Modification:  [ 1.66922245  1.72327889  1.65018662 ...,  0.39614065  2.048684    0.79334081]\n",
      "converting points\n",
      "converting numpy array to surface\n"
     ]
    }
   ],
   "source": [
    "print('Before Modification: ', numpySurface['PointData']['DistanceToCenterlines'])\n",
    "numpySurface['PointData']['DistanceToCenterlines'] = numpySurface['PointData']['DistanceToCenterlines'] * 2\n",
    "print('After Modification: ', numpySurface['PointData']['DistanceToCenterlines'])\n",
    "\n",
    "surfaceVmtkAdaptor = vmtkscripts.vmtkNumpyToSurface()\n",
    "surfaceVmtkAdaptor.ArrayDict = numpySurface\n",
    "surfaceVmtkAdaptor.Execute()"
   ]
  },
  {
   "cell_type": "markdown",
   "metadata": {},
   "source": [
    "We can then use the VMTK object as normal or save it to a file."
   ]
  },
  {
   "cell_type": "markdown",
   "metadata": {},
   "source": [
    "### Converting VMTK Centerline Objects"
   ]
  },
  {
   "cell_type": "markdown",
   "metadata": {},
   "source": [
    "The following example demonstrates how to convert a VMTK centerline to a numpy array. This is handled by the `vmtkscripts.vmtkCenterlinesToNumpy()` script which accepts a `Surface / Centerline` as a input and outputs the nested dictionary of arrays through the `ArrayDict` class attribute. "
   ]
  },
  {
   "cell_type": "markdown",
   "metadata": {},
   "source": [
    "The structure of the `ArrayDict` nested dictionary is as follows:\n",
    "\n",
    "```\n",
    "ArrayDict\n",
    "    ['Points']                   <-- required, is Nx3 array of N vertexes and x, y, z locations\n",
    "    ['PointData']                <-- required, even if subarrays are empty\n",
    "        ['PointDataArray1']      <-- optional, (ex. MaximumInscribedSphereRadius)\n",
    "        ['PointDataArray2']      <-- optional\n",
    "        ...\n",
    "    ['CellData']                 <-- required\n",
    "        ['CellPointIds']         <-- required, list of Mx1 arrays defining cell connectivity to ['Points']\n",
    "        ['CellDataArray1']       <-- optional, (ex: CenterlineTractId)\n",
    "        ['CellDataArray2']       <-- optional\n",
    "        ...\n",
    "```"
   ]
  },
  {
   "cell_type": "markdown",
   "metadata": {},
   "source": [
    "Note: The format for ` ['CellData']['CellPointIds'] ` is slightly different for centerlines than it is for the surface example above. Unlike a surface (which defined each triangle face as a row in ` ['CellData']['CellPointIds'] ` with fixed dimensions Mx3), the number of Points making up each cell in a centerline are completely arbitrary. Instead of a ` Mx3 ` size array, the centerline version of ` ['CellData']['CellPointIds'] ` contains a list of numpy arrays with (potentially) non-equal sizes. Aside from this semantic difference, the meaning of each index in ` ['CellData']['CellPointIds'] ` is the same for centerlines and surfaces; that is, each value in ` ['CellData']['CellPointIds'] ` refers to a row index in ` ['Points'] ` which contains the coordinates of the associated points."
   ]
  },
  {
   "cell_type": "code",
   "execution_count": 6,
   "metadata": {},
   "outputs": [
    {
     "name": "stdout",
     "output_type": "stream",
     "text": [
      "Reading VTK XML surface file.\n",
      "wrapping vtkPolyData object\n",
      "converting cell data: \n",
      "CenterlineIds\n",
      "TractIds\n",
      "Blanking\n",
      "GroupIds\n",
      "converting points\n",
      "converting point data: \n",
      "MaximumInscribedSphereRadius\n",
      "converting cell connectivity list\n"
     ]
    }
   ],
   "source": [
    "centerlineReader = vmtkscripts.vmtkSurfaceReader()\n",
    "centerlineReader.InputFileName = 'foo/coronary-test-centerline-branches.vtp'\n",
    "centerlineReader.Execute()\n",
    "\n",
    "clNumpyAdaptor = vmtkscripts.vmtkCenterlinesToNumpy()\n",
    "clNumpyAdaptor.Centerlines = centerlineReader.Surface\n",
    "clNumpyAdaptor.Execute()\n",
    "\n",
    "numpyCenterlines = clNumpyAdaptor.ArrayDict"
   ]
  },
  {
   "cell_type": "markdown",
   "metadata": {},
   "source": [
    "Like the surface example above, we can see that the data accessed through ` numpyCenterlines['Points'] ` is a numpy array of shape Nx3:"
   ]
  },
  {
   "cell_type": "code",
   "execution_count": 7,
   "metadata": {},
   "outputs": [
    {
     "name": "stdout",
     "output_type": "stream",
     "text": [
      "numpyCenterlines[\"Points\"] shape =  (20758, 3)\n"
     ]
    }
   ],
   "source": [
    "print('numpyCenterlines[\"Points\"] shape = ', numpyCenterlines['Points'].shape)"
   ]
  },
  {
   "cell_type": "markdown",
   "metadata": {},
   "source": [
    "In addition, we see that the keys for Point Data and Cell Data are:"
   ]
  },
  {
   "cell_type": "code",
   "execution_count": 8,
   "metadata": {},
   "outputs": [
    {
     "name": "stdout",
     "output_type": "stream",
     "text": [
      "Point Data Keys:  dict_keys(['MaximumInscribedSphereRadius'])\n",
      "Cell Data Keys:  dict_keys(['CenterlineIds', 'TractIds', 'Blanking', 'GroupIds', 'CellPointIds'])\n"
     ]
    }
   ],
   "source": [
    "print('Point Data Keys: ', numpyCenterlines['PointData'].keys())\n",
    "print('Cell Data Keys: ', numpyCenterlines['CellData'].keys())"
   ]
  },
  {
   "cell_type": "markdown",
   "metadata": {},
   "source": [
    "We see that the number of components in ` ['PointData']['MaximumInscribedSphereRadius'] ` is equal to the number of rows in ` ['Points'] `"
   ]
  },
  {
   "cell_type": "code",
   "execution_count": 9,
   "metadata": {},
   "outputs": [
    {
     "name": "stdout",
     "output_type": "stream",
     "text": [
      "Point Data Shape:  (20758,)  = Number of Points:  20758\n"
     ]
    }
   ],
   "source": [
    "print('Point Data Shape: ', numpyCenterlines['PointData']['MaximumInscribedSphereRadius'].shape, ' = Number of Points: ', numpyCenterlines['Points'].shape[0])"
   ]
  },
  {
   "cell_type": "markdown",
   "metadata": {},
   "source": [
    "We can also see that ` ['CellData']['CellPointIds'] ` is a list of a certain length which contains a series of numpy arrays, and that the sizes of the arrays are not necesarily the same:"
   ]
  },
  {
   "cell_type": "code",
   "execution_count": 10,
   "metadata": {},
   "outputs": [
    {
     "name": "stdout",
     "output_type": "stream",
     "text": [
      "['CellData']['CellPointIds] is a python list:  True\n",
      "length of ['CellData']['CellPointIds'] list =  30 \n",
      "\n",
      "Minimum size of array in ['CellData']['CellPointIds'] =  32  Which occured at index  27\n",
      "Maximum size of array in ['CellData']['CellPointIds'] =  2950  Which occured at index  7\n"
     ]
    }
   ],
   "source": [
    "print(\"['CellData']['CellPointIds] is a python list: \", isinstance(numpyCenterlines['CellData']['CellPointIds'], list))\n",
    "print(\"length of ['CellData']['CellPointIds'] list = \", len(numpyCenterlines['CellData']['CellPointIds']), '\\n')\n",
    "\n",
    "minSize = np.inf\n",
    "maxSize = 0\n",
    "for index, cellId in enumerate(numpyCenterlines['CellData']['CellPointIds']):\n",
    "    if cellId.shape[0] > maxSize:\n",
    "        maxSize = cellId.shape[0]\n",
    "        maxSizeCellIndex = index\n",
    "    if cellId.shape[0] < minSize:\n",
    "        minSize = cellId.shape[0]\n",
    "        minSizeCellIndex = index\n",
    "        \n",
    "print(\"Minimum size of array in ['CellData']['CellPointIds'] = \", minSize, ' Which occured at index ', minSizeCellIndex)\n",
    "print(\"Maximum size of array in ['CellData']['CellPointIds'] = \", maxSize, ' Which occured at index ', maxSizeCellIndex)"
   ]
  },
  {
   "cell_type": "markdown",
   "metadata": {},
   "source": [
    "We can the see that the data inside of ` ['CellData'] ` (not at ` ['CellPointIds'] `) has a shape equal to the length of the ` ['CellData']['CellPointIds'] `  list"
   ]
  },
  {
   "cell_type": "code",
   "execution_count": 11,
   "metadata": {},
   "outputs": [
    {
     "name": "stdout",
     "output_type": "stream",
     "text": [
      "Shape of  CenterlineIds  =  (30,)\n",
      "Shape of  TractIds  =  (30,)\n",
      "Shape of  Blanking  =  (30,)\n",
      "Shape of  GroupIds  =  (30,)\n"
     ]
    }
   ],
   "source": [
    "for cellDataKey in numpyCenterlines['CellData']:\n",
    "    if cellDataKey == 'CellPointIds':\n",
    "        pass\n",
    "    else:\n",
    "        print('Shape of ', cellDataKey, ' = ', numpyCenterlines['CellData'][cellDataKey].shape)"
   ]
  },
  {
   "cell_type": "markdown",
   "metadata": {},
   "source": [
    "This is important, as the data stored in the ` ['CellData'] ` arrays are indexed so that the value at ` ['CellData']['foo'][index] ` refers to the list element at the corresponding list index in ` ['CellData']['CellPointIds'] `. For example: the data sorted at ` ['CellData']['TractIds'][5] ` refers to the cell point id list accessible at ` ['CellData']['CellPointIds'][5] `. Recall that this array's values indicate the row indices of the vertices in ` ['Points'] ` which make up the cell. In this way it is possible to map a Cell Data value to a particular Point coordinate. \n",
    "\n",
    "However, it is not always convenient to have to map each ` ['CellData']['foo'] ` index to the ` ['CellData']['CellPointIds'] ` list to the corresponding coordinate in ` ['Points'] `. A conceptually simpler (though more resource intensive) method to perform the mapping is to take each dataset attribute in ` ['CellData'] ` (with the exception of ` CellPointIDs `), and map it to a dense array in ` ['PointData'] `. This can be performed automatically by specifying ` foo.ConvertCellToPoint = 1 ` when calling ` vmtkscripts.vmtkCenterlinesToNumpy() `\n",
    "\n",
    "Like the surface example above, it is possible to convert from the nested python dictionary of arrays to a VMTK centerlines object via the ` vmtkscripts.vmtkNumpyToCenterlines() ` module: "
   ]
  },
  {
   "cell_type": "code",
   "execution_count": 12,
   "metadata": {},
   "outputs": [
    {
     "name": "stdout",
     "output_type": "stream",
     "text": [
      "converting points\n",
      "converting point data\n",
      "converting cell data\n"
     ]
    }
   ],
   "source": [
    "clVmtkAdaptor = vmtkscripts.vmtkNumpyToCenterlines()\n",
    "clVmtkAdaptor.ArrayDict = numpyCenterlines\n",
    "clVmtkAdaptor.Execute()"
   ]
  },
  {
   "cell_type": "markdown",
   "metadata": {},
   "source": [
    "### Converting VMTK Image Objects"
   ]
  },
  {
   "cell_type": "markdown",
   "metadata": {},
   "source": [
    "The conversion of VMTK Image Objects requires a much simpler ArrayDict structure than for a surface or centerline. The structure of the ` ArrayDict ` is as follows:\n",
    "\n",
    "```\n",
    "ArrayDict\n",
    "    ['Origin']                 <-- required, is 3x1 array of (float) x,y,z vertex locations at index (0,0,0)\n",
    "    ['Dimensions']             <-- required, is 3x1 array of (int) number of voxels in the x,y,z direction.\n",
    "    ['Spacing']                <-- required, is 3x1 array of (float) voxel spacing in the x,y,z directions\n",
    "    ['PointData']              <-- required\n",
    "        ['PointDataArray1']    <-- required, is np.ndarray of shape = dimensions containing image data. \n",
    "        ['PointDataArray2']    <-- optional, is np.ndarray of shape = dimensions containing image data. \n",
    "        ...\n",
    "\n",
    "```"
   ]
  },
  {
   "cell_type": "markdown",
   "metadata": {},
   "source": [
    "Recall that for this module, image data does not have a concept of cell data. As a result the entire VTK object can be specified with 3 attributes (Origin, Dimensions, & Spacing) and a dense array representing the image intensity scalars at each voxel index. An example of this is shown below:"
   ]
  },
  {
   "cell_type": "code",
   "execution_count": 13,
   "metadata": {},
   "outputs": [
    {
     "name": "stdout",
     "output_type": "stream",
     "text": [
      "Spacing 0.878906 0.878906 1.500090\n",
      "Origin 156.445000 24.609400 0.000000\n",
      "Dimensions 157 393 34\n",
      "wrapping vtkDataObject\n",
      "setting origin\n",
      "setting dimensions\n",
      "setting spacing\n",
      "writing point data: \n"
     ]
    }
   ],
   "source": [
    "imageReader = vmtkscripts.vmtkImageReader()\n",
    "imageReader.InputFileName = 'foo/aorta-voi.mha'\n",
    "imageReader.Execute()\n",
    "\n",
    "imageNumpyAdaptor = vmtkscripts.vmtkImageToNumpy()\n",
    "imageNumpyAdaptor.Image = imageReader.Image\n",
    "imageNumpyAdaptor.Execute()\n",
    "\n",
    "numpyImage = imageNumpyAdaptor.ArrayDict"
   ]
  },
  {
   "cell_type": "code",
   "execution_count": 14,
   "metadata": {},
   "outputs": [
    {
     "name": "stdout",
     "output_type": "stream",
     "text": [
      "['Spacing'] =  [ 0.87890601  0.87890601  1.50009   ]\n",
      "['Origin'] =  [ 156.445    24.6094    0.    ]\n",
      "['Dimensions'] =  [157 393  34]\n",
      "['PointData']['ImageScalars'] shape =  (157, 393, 34)\n"
     ]
    }
   ],
   "source": [
    "print(\"['Spacing'] = \", numpyImage['Spacing'])\n",
    "print(\"['Origin'] = \", numpyImage['Origin'])\n",
    "print(\"['Dimensions'] = \", numpyImage['Dimensions'])\n",
    "print(\"['PointData']['ImageScalars'] shape = \", numpyImage['PointData']['ImageScalars'].shape)"
   ]
  },
  {
   "cell_type": "markdown",
   "metadata": {},
   "source": [
    "We can modify the data stored in ` ['PointData']['ImageScalars'] ` and return it to a VMTK image object as demonstrated below:"
   ]
  },
  {
   "cell_type": "code",
   "execution_count": 15,
   "metadata": {},
   "outputs": [
    {
     "name": "stdout",
     "output_type": "stream",
     "text": [
      "Intensity Maximum Before Modification =  2570.2\n",
      "Intensity Minimum Before Modification =  0.0\n",
      "Intensity Maximum After Modification =  500.0\n",
      "Intensity Minimum After Modification =  0.0\n"
     ]
    }
   ],
   "source": [
    "print('Intensity Maximum Before Modification = ', np.amax(numpyImage['PointData']['ImageScalars']))\n",
    "print('Intensity Minimum Before Modification = ', np.amin(numpyImage['PointData']['ImageScalars']))\n",
    "\n",
    "numpyImage['PointData']['ImageScalars'][np.where(numpyImage['PointData']['ImageScalars'] > 500)] = 500\n",
    "\n",
    "print('Intensity Maximum After Modification = ', np.amax(numpyImage['PointData']['ImageScalars']))\n",
    "print('Intensity Minimum After Modification = ', np.amin(numpyImage['PointData']['ImageScalars']))"
   ]
  },
  {
   "cell_type": "code",
   "execution_count": 16,
   "metadata": {},
   "outputs": [
    {
     "name": "stdout",
     "output_type": "stream",
     "text": [
      "Converting Numpy Array to vtkImageData\n",
      "converting point data\n"
     ]
    }
   ],
   "source": [
    "imageVmtkAdaptor = vmtkscripts.vmtkNumpyToImage()\n",
    "imageVmtkAdaptor.ArrayDict = numpyImage\n",
    "imageVmtkAdaptor.Execute()"
   ]
  },
  {
   "cell_type": "markdown",
   "metadata": {},
   "source": [
    "## Saving VMTK Numpy Objects"
   ]
  },
  {
   "cell_type": "markdown",
   "metadata": {},
   "source": [
    "Two convenience scripts have been provided to save and read VMTK numpy objects (surfaces, centerlines, or images) to disk. The files can be written in either HDF5 format (provided the h5py module is installed) or via a standard python pickle object. The procedure is identical for every object type. \n",
    "\n",
    "Simply use vmtkscripts.vmtkNumpyWriter() and vmtkscripts.vmtkNumpyReader() in the fashion standard through vmtk. The scripts take an ` ArrayDict ` as an input member along with a ` Format ` identification (default = pickle) and a output/input file name, and read/write the array to/from disk."
   ]
  }
 ],
 "metadata": {
  "kernelspec": {
   "display_name": "Python 3",
   "language": "python",
   "name": "python3"
  },
  "language_info": {
   "codemirror_mode": {
    "name": "ipython",
    "version": 3
   },
   "file_extension": ".py",
   "mimetype": "text/x-python",
   "name": "python",
   "nbconvert_exporter": "python",
   "pygments_lexer": "ipython3",
   "version": "3.6.1"
  }
 },
 "nbformat": 4,
 "nbformat_minor": 1
}
